{
 "cells": [
  {
   "cell_type": "code",
   "execution_count": null,
   "metadata": {
    "vscode": {
     "languageId": "plaintext"
    }
   },
   "outputs": [],
   "source": [
    "import requests\n",
    "import pandas as pd\n",
    "import matplotlib.pyplot as plt\n",
    "\n",
    "# DataGolf API endpoint for tournament results\n",
    "API_URL = \"https://feeds.datagolf.com/historical-tournament-results\"\n",
    "API_KEY = \"YOUR_API_KEY\"  # Replace with your actual API key\n",
    "\n",
    "# Fetch tournament results (example: last 5 years, PGA Tour)\n",
    "params = {\n",
    "    \"tour\": \"pga\",\n",
    "    \"years\": \"2019-2023\",\n",
    "    \"key\": API_KEY\n",
    "}\n",
    "response = requests.get(API_URL, params=params)\n",
    "data = response.json()\n",
    "\n",
    "# Convert to DataFrame\n",
    "df = pd.DataFrame(data)\n",
    "print(df.head())  # Check the first few rows\n",
    "\n",
    "# Basic EDA: Distribution of player scores\n",
    "df['score'] = pd.to_numeric(df['score'], errors='coerce')  # Ensure numeric scores\n",
    "plt.hist(df['score'].dropna(), bins=30, edgecolor='black')\n",
    "plt.xlabel('Score')\n",
    "plt.ylabel('Frequency')\n",
    "plt.title('Distribution of Tournament Scores')\n",
    "plt.show()\n",
    "\n",
    "# Save cleaned data\n",
    "df.to_csv(\"golf_tournament_results.csv\", index=False)\n"
   ]
  }
 ],
 "metadata": {
  "language_info": {
   "name": "python"
  }
 },
 "nbformat": 4,
 "nbformat_minor": 2
}
